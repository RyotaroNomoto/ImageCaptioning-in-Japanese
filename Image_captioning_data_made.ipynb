{
 "cells": [
  {
   "cell_type": "markdown",
   "id": "6e626595-e2e8-4551-88bc-c631169144de",
   "metadata": {
    "tags": []
   },
   "source": [
    "# データの準備\n",
    "* 概要\n",
    "    * dataファイルの作成\n",
    "    * MSCOCO2014 Val Images(画像データ)のダウンロード\n",
    "    * Stair Captions(テキストデータ)のダウンロード\n",
    "    * 画像ファイル名とキャプションを対応させたtxtファイルの作成"
   ]
  },
  {
   "cell_type": "code",
   "execution_count": null,
   "id": "9755df46",
   "metadata": {},
   "outputs": [
    {
     "name": "stdout",
     "output_type": "stream",
     "text": [
      "3.8.10 (default, Mar 15 2022, 12:22:08) \n",
      "[GCC 9.4.0]\n"
     ]
    }
   ],
   "source": [
    "#Pythonのバージョン確認\n",
    "import sys\n",
    "print(sys.version)"
   ]
  },
  {
   "cell_type": "code",
   "execution_count": 9,
   "id": "cfe3cf8e",
   "metadata": {},
   "outputs": [],
   "source": [
    "#パッケージのインポート\n",
    "import os\n",
    "import urllib.request\n",
    "import tarfile\n",
    "import zipfile\n",
    "from tqdm import tqdm"
   ]
  },
  {
   "cell_type": "code",
   "execution_count": 10,
   "id": "6b92231a",
   "metadata": {},
   "outputs": [],
   "source": [
    "# フォルダ「data」が存在しない場合は作成する\n",
    "\n",
    "data_dir = \"./data/\"\n",
    "if not os.path.exists(data_dir):\n",
    "    os.mkdir(data_dir)"
   ]
  },
  {
   "cell_type": "markdown",
   "id": "72f5ef82-a5fc-4a44-999f-af03991c655d",
   "metadata": {},
   "source": [
    "### ここで、[STAIR Captions](https://github.com/STAIR-Lab-CIT/STAIR-captions) から、stair_captions_v1.2.tar.gzをダウンロードし、dataファイル内に置いてください。"
   ]
  },
  {
   "cell_type": "code",
   "execution_count": null,
   "id": "e2cb7fb4-d940-46b2-8ad6-89f45bd4de55",
   "metadata": {},
   "outputs": [],
   "source": [
    "# tar.gzの解凍\n",
    "# tarファイルを読み込み\n",
    "\n",
    "tar = tarfile.open('./data/stair_captions_v1.2.tar.gz')\n",
    "tar.extractall('./data/')  # 解凍\n",
    "tar.close()  # ファイルをクローズ"
   ]
  },
  {
   "cell_type": "code",
   "execution_count": 11,
   "id": "497e3959-7238-41c0-a87d-c803549038fb",
   "metadata": {},
   "outputs": [],
   "source": [
    "# MSCOCOの2014 Val images [41K/6GB]をダウンロード\n",
    "# 6GBのダウンロードと解凍なので時間がかかります（10分弱）\n",
    "\n",
    "url =  \"http://images.cocodataset.org/zips/val2014.zip\"\n",
    "target_path = os.path.join(data_dir, \"val2014.zip\") \n",
    "\n",
    "if not os.path.exists(target_path):\n",
    "    urllib.request.urlretrieve(url, target_path)\n",
    "\n",
    "zip = zipfile.ZipFile(target_path)\n",
    "zip.extractall(data_dir)  # ZIPを解凍\n",
    "zip.close()  # ZIPファイルをクローズ"
   ]
  },
  {
   "cell_type": "code",
   "execution_count": 12,
   "id": "fe1d2a77",
   "metadata": {},
   "outputs": [],
   "source": [
    "# STAIR Captionsを読むこむ\n",
    "import json\n",
    "import pandas as pd\n",
    "import numpy as np\n",
    " \n",
    "f = open(\"./data/stair_captions_v1.2_val_tokenized.json\", 'r', encoding='utf-8')\n",
    "json_data = json.load(f)"
   ]
  },
  {
   "cell_type": "code",
   "execution_count": 14,
   "id": "df573967",
   "metadata": {
    "tags": []
   },
   "outputs": [
    {
     "name": "stderr",
     "output_type": "stream",
     "text": [
      "100%|███████████████████████████████████| 202520/202520 [34:18<00:00, 98.37it/s]\n"
     ]
    }
   ],
   "source": [
    "# 画像のファイル名とその画像のキャプションを対応させたDataFrameオブジェクトの作成\n",
    "# 1時間ほどかかります\n",
    "\n",
    "id_file = {}\n",
    "for i in range(len(json_data[\"images\"])):\n",
    "    file_name = json_data[\"images\"][i][\"file_name\"]\n",
    "    id = json_data[\"images\"][i][\"id\"]\n",
    "    id_file[id] = file_name\n",
    "annotations_size = len(json_data[\"annotations\"])\n",
    "df = pd.DataFrame(data = np.zeros((annotations_size,2)))\n",
    "\n",
    "for j in tqdm(range(annotations_size)):\n",
    "    image_id = json_data[\"annotations\"][j]['image_id']\n",
    "    file_name = id_file[image_id]\n",
    "    caption = json_data[\"annotations\"][j][\"tokenized_caption\"]\n",
    "    df.loc[j, 0] = file_name\n",
    "    df.loc[j, 1] = caption"
   ]
  },
  {
   "cell_type": "code",
   "execution_count": 15,
   "id": "deac0102",
   "metadata": {},
   "outputs": [],
   "source": [
    "# 上のセルで作成したデータを、txtファイルとして出力\n",
    "data_size = 202520\n",
    "df.sort_values(0, inplace=True)\n",
    "df= df.reset_index(drop=True)\n",
    "df= df.loc[:data_size-1]\n",
    "\n",
    "#txtファイルに保存\n",
    "df.to_csv(\"./data/caption_val.txt\", sep=\" \", header=False, index=False, encoding='utf-8')"
   ]
  },
  {
   "cell_type": "markdown",
   "id": "51f085e1",
   "metadata": {},
   "source": [
    "## 画像のファイル名とキャプションがセットになったtxtファイルの作成が完了"
   ]
  },
  {
   "cell_type": "code",
   "execution_count": null,
   "id": "1070c9c9-0128-4675-b78c-4f8ce055c441",
   "metadata": {},
   "outputs": [],
   "source": []
  }
 ],
 "metadata": {
  "kernelspec": {
   "display_name": "Python 3 (ipykernel)",
   "language": "python",
   "name": "python3"
  },
  "language_info": {
   "codemirror_mode": {
    "name": "ipython",
    "version": 3
   },
   "file_extension": ".py",
   "mimetype": "text/x-python",
   "name": "python",
   "nbconvert_exporter": "python",
   "pygments_lexer": "ipython3",
   "version": "3.8.10"
  }
 },
 "nbformat": 4,
 "nbformat_minor": 5
}
